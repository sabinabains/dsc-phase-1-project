{
 "cells": [
  {
   "cell_type": "markdown",
   "metadata": {},
   "source": [
    "# Microsoft Movie Studio Exploratory Analysis\n",
    "- By: Sabina Bains\n",
    "- 10/13/2021\n",
    "- Self-Paced\n",
    "- Scheduled project review date / time: Friday, 10/13/21\n",
    "- Instructor name: Claude Fried"
   ]
  },
  {
   "cell_type": "markdown",
   "metadata": {},
   "source": [
    "## Objective:\n",
    "\n",
    "Explore historical movie data to determine types of movies that are most successful at the box office for Microsoft’s studio to utilize. This exploratory analysis dives into the following topics:\n",
    "- Genre Analysis\n",
    "- Crew Analysis\n",
    "- Monthly Trends\n",
    "\n",
    "Data used:\n",
    "- The Numbers (https://www.the-numbers.com/)\n",
    "- IMDB (https://www.imdb.com)\n"
   ]
  },
  {
   "cell_type": "markdown",
   "metadata": {},
   "source": [
    "### Importing Packages and Reading in Files"
   ]
  },
  {
   "cell_type": "code",
   "execution_count": 1,
   "metadata": {},
   "outputs": [],
   "source": [
    "# Import Packages\n",
    "import pandas as pd\n",
    "import numpy as np\n",
    "import matplotlib\n",
    "import matplotlib.pyplot as plt\n",
    "import seaborn as sns\n",
    "from itertools import chain\n",
    "import statistics\n",
    "import os\n",
    "\n",
    "# Setting options and styles\n",
    "%matplotlib inline\n",
    "pd.set_option('display.max_columns', None)\n",
    "plt.style.use('seaborn-talk')"
   ]
  },
  {
   "cell_type": "code",
   "execution_count": 2,
   "metadata": {
    "scrolled": false
   },
   "outputs": [
    {
     "name": "stdout",
     "output_type": "stream",
     "text": [
      "0 zippeddata/imdb.title.crew.csv.gz\n",
      "1 zippeddata/tmdb.movies.csv.gz\n",
      "2 zippeddata/imdb.title.akas.csv.gz\n",
      "3 zippeddata/imdb.title.ratings.csv.gz\n",
      "4 zippeddata/imdb.name.basics.csv.gz\n",
      "5 zippeddata/rt.reviews.tsv.gz\n",
      "6 zippeddata/imdb.title.basics.csv.gz\n",
      "7 zippeddata/rt.movie_info.tsv.gz\n",
      "8 zippeddata/tn.movie_budgets.csv.gz\n",
      "9 zippeddata/bom.movie_gross.csv.gz\n",
      "10 zippeddata/imdb.title.principals.csv.gz\n"
     ]
    }
   ],
   "source": [
    "#Viewing filenames for easier file importing\n",
    "filenames = os.listdir('zippeddata')\n",
    "paths = []\n",
    "\n",
    "for file in filenames:\n",
    "    paths.append('zippeddata/'+file)\n",
    "    \n",
    "for num, name in enumerate(paths):\n",
    "    print(num, name)"
   ]
  },
  {
   "cell_type": "markdown",
   "metadata": {},
   "source": [
    "#  GENRE ANALYSIS: TOP GENRES BY MEDIAN PROFIT AND BUDGET"
   ]
  },
  {
   "cell_type": "code",
   "execution_count": 3,
   "metadata": {},
   "outputs": [],
   "source": [
    "# importing box office data\n",
    "profit = pd.read_csv(paths[8])"
   ]
  },
  {
   "cell_type": "code",
   "execution_count": 4,
   "metadata": {},
   "outputs": [],
   "source": [
    "# Importing Genre + movie title Data\n",
    "genres = pd.read_csv(paths[6])"
   ]
  },
  {
   "cell_type": "code",
   "execution_count": 5,
   "metadata": {},
   "outputs": [],
   "source": [
    "# creating a new column \"start_year\" based on the year of the release date for merging with the sales data.\n",
    "profit['start_year'] = profit['release_date'].map(lambda x : x[-4:])\n",
    "profit.rename(columns={'movie':'primary_title'}, inplace=True)\n",
    "genres['start_year']=genres['start_year'].astype(str)"
   ]
  },
  {
   "cell_type": "code",
   "execution_count": 6,
   "metadata": {},
   "outputs": [],
   "source": [
    "# merging on movie title and year release \n",
    "f = pd.merge(genres,profit,on=['primary_title','start_year'],how='inner')"
   ]
  },
  {
   "cell_type": "code",
   "execution_count": 7,
   "metadata": {},
   "outputs": [],
   "source": [
    "# dropping NA's\n",
    "f = f.dropna()"
   ]
  },
  {
   "cell_type": "code",
   "execution_count": 8,
   "metadata": {},
   "outputs": [],
   "source": [
    "# Removing \",\" and \"$\" from dollar columns to turn into type int\n",
    "f_dollar_cols = ['production_budget', 'domestic_gross','worldwide_gross']\n",
    "for i in f_dollar_cols:\n",
    "    f[i]=f[i].str.replace('$','')\n",
    "    f[i]=f[i].str.replace(',','').astype(int)\n",
    "f['profit']=f['worldwide_gross']-f['production_budget']"
   ]
  },
  {
   "cell_type": "code",
   "execution_count": 9,
   "metadata": {},
   "outputs": [],
   "source": [
    "# creating values in Millions for nicer looking analysis\n",
    "def in_MM(df,new_col,col):\n",
    "    df[new_col] = df[col]/1000000\n",
    "    \n",
    "in_MM(f,'Budget (MM)','production_budget')\n",
    "in_MM(f,'Profit (MM)','profit')\n",
    "in_MM(f,'Gross (MM)','worldwide_gross')"
   ]
  },
  {
   "cell_type": "code",
   "execution_count": 10,
   "metadata": {},
   "outputs": [],
   "source": [
    "#Creating Deduplicated list of Genres to use as Keys for Dictionary\n",
    "genre_list = f.genres.str.split(',').to_list()\n",
    "genre_list = list(set(list(chain.from_iterable(genre_list))))"
   ]
  },
  {
   "cell_type": "code",
   "execution_count": 11,
   "metadata": {},
   "outputs": [],
   "source": [
    "#creating dictionary with values as lists to map ratings to genres\n",
    "genre_dict={}\n",
    "for item in genre_list:\n",
    "    genre_dict[item] = []\n",
    "    \n",
    "val_dict={}\n",
    "for item in genre_list:\n",
    "    val_dict[item] = []"
   ]
  },
  {
   "cell_type": "code",
   "execution_count": 12,
   "metadata": {},
   "outputs": [],
   "source": [
    "#appending values from df to dictionary based on genre key\n",
    "for index, row in f.iterrows():\n",
    "    for genre in val_dict:\n",
    "        if genre in row['genres']:\n",
    "            val_dict[genre].append(row['Profit (MM)'])"
   ]
  },
  {
   "cell_type": "code",
   "execution_count": 13,
   "metadata": {},
   "outputs": [],
   "source": [
    "budget_dict= genre_dict.copy()\n",
    "for index, row in f.iterrows():\n",
    "    for genre in budget_dict:\n",
    "        if genre in row['genres']:\n",
    "            budget_dict[genre].append(row['Budget (MM)'])"
   ]
  },
  {
   "cell_type": "code",
   "execution_count": 14,
   "metadata": {},
   "outputs": [],
   "source": [
    "# calculating count of movies in each genre (so we can exclude genres with low movie sample)\n",
    "count_dict = genre_dict.copy()\n",
    "for i in count_dict:\n",
    "    count_dict[i] = len(count_dict[i])"
   ]
  },
  {
   "cell_type": "code",
   "execution_count": 15,
   "metadata": {},
   "outputs": [],
   "source": [
    "# calculating average rating per Genre\n",
    "median_val_dict = {}\n",
    "for i in val_dict:\n",
    "    median_val_dict[i] = statistics.median(val_dict[i])"
   ]
  },
  {
   "cell_type": "code",
   "execution_count": 16,
   "metadata": {},
   "outputs": [],
   "source": [
    "# calculating average rating per Genre\n",
    "budget_val_dict = {}\n",
    "for i in budget_dict:\n",
    "    budget_val_dict[i] = statistics.median(budget_dict[i])"
   ]
  },
  {
   "cell_type": "code",
   "execution_count": 17,
   "metadata": {},
   "outputs": [],
   "source": [
    "#creating df from ratings column from dictionary\n",
    "profit_by_genre = pd.DataFrame(median_val_dict,index=['Median Profit (MM)'])\n",
    "profit_by_genre = profit_by_genre.transpose()\n",
    "profit_by_genre = profit_by_genre.reset_index()"
   ]
  },
  {
   "cell_type": "code",
   "execution_count": 18,
   "metadata": {},
   "outputs": [],
   "source": [
    "budget_by_genre = pd.DataFrame(budget_val_dict,index=['Median Budget (MM)'])\n",
    "budget_by_genre = budget_by_genre.transpose()\n",
    "budget_by_genre = budget_by_genre.reset_index()"
   ]
  },
  {
   "cell_type": "code",
   "execution_count": 19,
   "metadata": {},
   "outputs": [],
   "source": [
    "#creating df with count column from dictionary\n",
    "count_by_genre = pd.DataFrame(count_dict,index=['Count'])\n",
    "count_by_genre = count_by_genre.transpose()\n",
    "count_by_genre = count_by_genre.reset_index()"
   ]
  },
  {
   "cell_type": "code",
   "execution_count": 20,
   "metadata": {},
   "outputs": [],
   "source": [
    "# final merge onto genre column for analysis\n",
    "genre = pd.merge(profit_by_genre, budget_by_genre, on=\"index\")\n",
    "genre = pd.merge(genre, count_by_genre, on=\"index\")\n",
    "genre.rename(columns={'index':'Genre'},inplace=True)"
   ]
  },
  {
   "cell_type": "code",
   "execution_count": 21,
   "metadata": {},
   "outputs": [],
   "source": [
    "# filtering out any genre column that has less than 10 movies represented and sorting by highest rating\n",
    "genre = genre.loc[genre['Count'] >= 10].reset_index(drop=True)\n",
    "genre = genre.sort_values('Median Profit (MM)', ascending = False)"
   ]
  },
  {
   "cell_type": "code",
   "execution_count": 22,
   "metadata": {},
   "outputs": [],
   "source": [
    "#no longer need count column\n",
    "genre = genre.drop(columns='Count')"
   ]
  },
  {
   "cell_type": "code",
   "execution_count": 23,
   "metadata": {},
   "outputs": [],
   "source": [
    "# keeping only top 10 genres for bar plot\n",
    "genre = genre.head(10)"
   ]
  },
  {
   "cell_type": "code",
   "execution_count": 24,
   "metadata": {},
   "outputs": [],
   "source": [
    "# stacking data for input in barplot \n",
    "genre = genre.melt(id_vars='Genre').rename(columns=str.title)"
   ]
  },
  {
   "cell_type": "code",
   "execution_count": 25,
   "metadata": {},
   "outputs": [
    {
     "data": {
      "image/png": "[encoded data removed]",
      "text/plain": [
       "<Figure size 1080x720 with 1 Axes>"
      ]
     },
     "metadata": {
      "needs_background": "light"
     },
     "output_type": "display_data"
    }
   ],
   "source": [
    "#creating barplot of median profit and budget by genre\n",
    "fig, ax = plt.subplots(figsize=(15, 10))\n",
    "\n",
    "barplot = sns.barplot(x='Genre', y='Value', hue='Variable', data=genre, palette=\"rocket\", ax=ax)\n",
    "ax.set(xlabel='Genres', ylabel='$ (Millions)')\n",
    "\n",
    "for p in barplot.patches:\n",
    "    barplot.annotate(format(p.get_height(), '.1f'), \n",
    "                   (p.get_x() + p.get_width() / 2., p.get_height()), \n",
    "                   ha = 'center', va = 'center', \n",
    "                   xytext = (0, 9), \n",
    "                   textcoords = 'offset points')"
   ]
  },
  {
   "cell_type": "code",
   "execution_count": 26,
   "metadata": {},
   "outputs": [],
   "source": [
    "# creating function to get more info on the top 5 films in each genre \n",
    "def top_in_genre(genre):\n",
    "    cols=['primary_title', 'release_date',\n",
    "       'runtime_minutes','genres',\n",
    "       'production_budget','worldwide_gross', 'profit']\n",
    "    df = f[cols]\n",
    "    df = df.loc[df['genres'].str.contains(genre)]\n",
    "    df = df.sort_values(by='profit',ascending=False).head(5)\n",
    "    return df"
   ]
  },
  {
   "cell_type": "code",
   "execution_count": 27,
   "metadata": {
    "scrolled": false
   },
   "outputs": [
    {
     "data": {
      "text/html": [
       "<div>\n",
       "<style scoped>\n",
       "    .dataframe tbody tr th:only-of-type {\n",
       "        vertical-align: middle;\n",
       "    }\n",
       "\n",
       "    .dataframe tbody tr th {\n",
       "        vertical-align: top;\n",
       "    }\n",
       "\n",
       "    .dataframe thead th {\n",
       "        text-align: right;\n",
       "    }\n",
       "</style>\n",
       "<table border=\"1\" class=\"dataframe\">\n",
       "  <thead>\n",
       "    <tr style=\"text-align: right;\">\n",
       "      <th></th>\n",
       "      <th>primary_title</th>\n",
       "      <th>release_date</th>\n",
       "      <th>runtime_minutes</th>\n",
       "      <th>genres</th>\n",
       "      <th>production_budget</th>\n",
       "      <th>worldwide_gross</th>\n",
       "      <th>profit</th>\n",
       "    </tr>\n",
       "  </thead>\n",
       "  <tbody>\n",
       "    <tr>\n",
       "      <th>1336</th>\n",
       "      <td>Avengers: Infinity War</td>\n",
       "      <td>Apr 27, 2018</td>\n",
       "      <td>149.0</td>\n",
       "      <td>Action,Adventure,Sci-Fi</td>\n",
       "      <td>300000000</td>\n",
       "      <td>2048134200</td>\n",
       "      <td>1748134200</td>\n",
       "    </tr>\n",
       "    <tr>\n",
       "      <th>3</th>\n",
       "      <td>Jurassic World</td>\n",
       "      <td>Jun 12, 2015</td>\n",
       "      <td>124.0</td>\n",
       "      <td>Action,Adventure,Sci-Fi</td>\n",
       "      <td>215000000</td>\n",
       "      <td>1648854864</td>\n",
       "      <td>1433854864</td>\n",
       "    </tr>\n",
       "    <tr>\n",
       "      <th>82</th>\n",
       "      <td>The Avengers</td>\n",
       "      <td>May 4, 2012</td>\n",
       "      <td>143.0</td>\n",
       "      <td>Action,Adventure,Sci-Fi</td>\n",
       "      <td>225000000</td>\n",
       "      <td>1517935897</td>\n",
       "      <td>1292935897</td>\n",
       "    </tr>\n",
       "    <tr>\n",
       "      <th>731</th>\n",
       "      <td>Black Panther</td>\n",
       "      <td>Feb 16, 2018</td>\n",
       "      <td>134.0</td>\n",
       "      <td>Action,Adventure,Sci-Fi</td>\n",
       "      <td>200000000</td>\n",
       "      <td>1348258224</td>\n",
       "      <td>1148258224</td>\n",
       "    </tr>\n",
       "    <tr>\n",
       "      <th>1420</th>\n",
       "      <td>Jurassic World: Fallen Kingdom</td>\n",
       "      <td>Jun 22, 2018</td>\n",
       "      <td>128.0</td>\n",
       "      <td>Action,Adventure,Sci-Fi</td>\n",
       "      <td>170000000</td>\n",
       "      <td>1305772799</td>\n",
       "      <td>1135772799</td>\n",
       "    </tr>\n",
       "  </tbody>\n",
       "</table>\n",
       "</div>"
      ],
      "text/plain": [
       "                       primary_title  release_date  runtime_minutes  \\\n",
       "1336          Avengers: Infinity War  Apr 27, 2018            149.0   \n",
       "3                     Jurassic World  Jun 12, 2015            124.0   \n",
       "82                      The Avengers   May 4, 2012            143.0   \n",
       "731                    Black Panther  Feb 16, 2018            134.0   \n",
       "1420  Jurassic World: Fallen Kingdom  Jun 22, 2018            128.0   \n",
       "\n",
       "                       genres  production_budget  worldwide_gross      profit  \n",
       "1336  Action,Adventure,Sci-Fi          300000000       2048134200  1748134200  \n",
       "3     Action,Adventure,Sci-Fi          215000000       1648854864  1433854864  \n",
       "82    Action,Adventure,Sci-Fi          225000000       1517935897  1292935897  \n",
       "731   Action,Adventure,Sci-Fi          200000000       1348258224  1148258224  \n",
       "1420  Action,Adventure,Sci-Fi          170000000       1305772799  1135772799  "
      ]
     },
     "execution_count": 27,
     "metadata": {},
     "output_type": "execute_result"
    }
   ],
   "source": [
    "# taking a look at each genre \n",
    "top_in_genre('Adventure')"
   ]
  },
  {
   "cell_type": "markdown",
   "metadata": {},
   "source": [
    "# SUGGESTION 2 \n",
    "\n",
    "#don't need the region when merging with profit since they are all US, can skip the beginning merge"
   ]
  },
  {
   "cell_type": "code",
   "execution_count": 28,
   "metadata": {},
   "outputs": [],
   "source": [
    "#read in data, merge together\n",
    "namebasics = pd.read_csv(paths[4])\n",
    "titleps = pd.read_csv(paths[10])\n",
    "crew = pd.merge(titleps,namebasics,on='nconst',how='left')\n",
    "\n",
    "#merge with financial data\n",
    "fcrew = pd.merge(crew,f,on='tconst',how='inner')"
   ]
  },
  {
   "cell_type": "code",
   "execution_count": 29,
   "metadata": {},
   "outputs": [],
   "source": [
    "in_MM(fcrew,'Budget (MM)','production_budget')\n",
    "in_MM(fcrew,'Profit (MM)','profit')\n",
    "in_MM(fcrew,'Gross (MM)','worldwide_gross')\n",
    "\n",
    "fcrew['Profit (B)'] = fcrew['Profit (MM)']/1000"
   ]
  },
  {
   "cell_type": "code",
   "execution_count": 30,
   "metadata": {},
   "outputs": [],
   "source": [
    "#keep certain cols\n",
    "crew_cols = ['category','tconst','primary_name','characters','primary_title','genres','release_date',\n",
    "            'Budget (MM)','Gross (MM)','Profit (MM)','Profit (B)']\n",
    "fcrew = fcrew[crew_cols]"
   ]
  },
  {
   "cell_type": "code",
   "execution_count": 31,
   "metadata": {},
   "outputs": [
    {
     "data": {
      "text/plain": [
       "array(['cinematographer', 'actor', 'director', 'producer', 'composer',\n",
       "       'actress', 'writer', 'editor', 'production_designer', 'self',\n",
       "       'archive_footage', 'archive_sound'], dtype=object)"
      ]
     },
     "execution_count": 31,
     "metadata": {},
     "output_type": "execute_result"
    }
   ],
   "source": [
    "fcrew['category'].unique()"
   ]
  },
  {
   "cell_type": "code",
   "execution_count": 32,
   "metadata": {},
   "outputs": [],
   "source": [
    "#filter on genres based on last suggestion\n",
    "animation = fcrew.loc[fcrew['genres'].str.contains('Animation')]\n",
    "action = fcrew.loc[fcrew['genres'].str.contains('Adventure')]\n",
    "comedy = fcrew.loc[fcrew['genres'].str.contains('Comedy')]\n",
    "\n",
    "# fcrew = pd.concat(animation,action,comedy)\n",
    "fcrew = animation.append([action, comedy])"
   ]
  },
  {
   "cell_type": "code",
   "execution_count": 33,
   "metadata": {},
   "outputs": [],
   "source": [
    "def top_crew(df,category_list,chart_title):\n",
    "    df = df.loc[df['category'].isin(category_list)] \n",
    "    df = df.groupby('primary_name')['Profit (B)'].agg(['sum','count']).reset_index()\n",
    "    df.sort_values('sum',ascending=False,inplace=True)\n",
    "    df = df.drop_duplicates()\n",
    "    \n",
    "    sns.set_style(style='white') \n",
    "    fig, ax = plt.subplots(figsize=(15,10))\n",
    "    sns.barplot(x = 'primary_name',\n",
    "                y = 'sum',\n",
    "                data = df.head(3),\n",
    "                palette=\"rocket\",\n",
    "                ax = ax)\n",
    "    ax.set(xlabel='', ylabel='Profit Sum (Billions)')\n",
    "    plt.title(chart_title, size=22)\n",
    "    sns.set(font_scale = 2)\n",
    "    fig.tight_layout()\n",
    "    return fig, df.head(3)"
   ]
  },
  {
   "cell_type": "code",
   "execution_count": 34,
   "metadata": {},
   "outputs": [
    {
     "data": {
      "text/plain": [
       "(<Figure size 1080x720 with 1 Axes>,\n",
       "     primary_name        sum  count\n",
       " 994     Stan Lee  10.851624     18\n",
       " 195   Cinco Paul   9.337987     14\n",
       " 636   Ken Daurio   9.337987     14)"
      ]
     },
     "execution_count": 34,
     "metadata": {},
     "output_type": "execute_result"
    },
    {
     "data": {
      "image/png": "[encoded data removed]",
      "text/plain": [
       "<Figure size 1080x720 with 1 Axes>"
      ]
     },
     "metadata": {},
     "output_type": "display_data"
    }
   ],
   "source": [
    "top_crew(fcrew,['writer'],'Total Movie Profit per Director')"
   ]
  },
  {
   "cell_type": "code",
   "execution_count": 35,
   "metadata": {
    "scrolled": true
   },
   "outputs": [
    {
     "data": {
      "text/html": [
       "<div>\n",
       "<style scoped>\n",
       "    .dataframe tbody tr th:only-of-type {\n",
       "        vertical-align: middle;\n",
       "    }\n",
       "\n",
       "    .dataframe tbody tr th {\n",
       "        vertical-align: top;\n",
       "    }\n",
       "\n",
       "    .dataframe thead th {\n",
       "        text-align: right;\n",
       "    }\n",
       "</style>\n",
       "<table border=\"1\" class=\"dataframe\">\n",
       "  <thead>\n",
       "    <tr style=\"text-align: right;\">\n",
       "      <th></th>\n",
       "      <th>category</th>\n",
       "      <th>tconst</th>\n",
       "      <th>primary_name</th>\n",
       "      <th>characters</th>\n",
       "      <th>primary_title</th>\n",
       "      <th>genres</th>\n",
       "      <th>release_date</th>\n",
       "      <th>Budget (MM)</th>\n",
       "      <th>Gross (MM)</th>\n",
       "      <th>Profit (MM)</th>\n",
       "      <th>Profit (B)</th>\n",
       "    </tr>\n",
       "  </thead>\n",
       "  <tbody>\n",
       "    <tr>\n",
       "      <th>5130</th>\n",
       "      <td>composer</td>\n",
       "      <td>tt1216475</td>\n",
       "      <td>Michael Giacchino</td>\n",
       "      <td>NaN</td>\n",
       "      <td>Cars 2</td>\n",
       "      <td>Adventure,Animation,Comedy</td>\n",
       "      <td>Jun 24, 2011</td>\n",
       "      <td>200.0</td>\n",
       "      <td>560.155383</td>\n",
       "      <td>360.155383</td>\n",
       "      <td>0.360155</td>\n",
       "    </tr>\n",
       "    <tr>\n",
       "      <th>9571</th>\n",
       "      <td>composer</td>\n",
       "      <td>tt2380307</td>\n",
       "      <td>Michael Giacchino</td>\n",
       "      <td>NaN</td>\n",
       "      <td>Coco</td>\n",
       "      <td>Adventure,Animation,Comedy</td>\n",
       "      <td>Nov 22, 2017</td>\n",
       "      <td>175.0</td>\n",
       "      <td>798.008101</td>\n",
       "      <td>623.008101</td>\n",
       "      <td>0.623008</td>\n",
       "    </tr>\n",
       "    <tr>\n",
       "      <th>10705</th>\n",
       "      <td>composer</td>\n",
       "      <td>tt3606756</td>\n",
       "      <td>Michael Giacchino</td>\n",
       "      <td>NaN</td>\n",
       "      <td>Incredibles 2</td>\n",
       "      <td>Action,Adventure,Animation</td>\n",
       "      <td>Jun 15, 2018</td>\n",
       "      <td>200.0</td>\n",
       "      <td>1242.520711</td>\n",
       "      <td>1042.520711</td>\n",
       "      <td>1.042521</td>\n",
       "    </tr>\n",
       "    <tr>\n",
       "      <th>2985</th>\n",
       "      <td>composer</td>\n",
       "      <td>tt1617661</td>\n",
       "      <td>Michael Giacchino</td>\n",
       "      <td>NaN</td>\n",
       "      <td>Jupiter Ascending</td>\n",
       "      <td>Action,Adventure,Sci-Fi</td>\n",
       "      <td>Feb 6, 2015</td>\n",
       "      <td>179.0</td>\n",
       "      <td>181.982519</td>\n",
       "      <td>2.982519</td>\n",
       "      <td>0.002983</td>\n",
       "    </tr>\n",
       "    <tr>\n",
       "      <th>3136</th>\n",
       "      <td>composer</td>\n",
       "      <td>tt1964418</td>\n",
       "      <td>Michael Giacchino</td>\n",
       "      <td>NaN</td>\n",
       "      <td>Tomorrowland</td>\n",
       "      <td>Action,Adventure,Family</td>\n",
       "      <td>May 22, 2015</td>\n",
       "      <td>170.0</td>\n",
       "      <td>206.627518</td>\n",
       "      <td>36.627518</td>\n",
       "      <td>0.036628</td>\n",
       "    </tr>\n",
       "    <tr>\n",
       "      <th>7143</th>\n",
       "      <td>composer</td>\n",
       "      <td>tt1306980</td>\n",
       "      <td>Michael Giacchino</td>\n",
       "      <td>NaN</td>\n",
       "      <td>50/50</td>\n",
       "      <td>Comedy,Drama,Romance</td>\n",
       "      <td>Sep 30, 2011</td>\n",
       "      <td>8.0</td>\n",
       "      <td>41.334735</td>\n",
       "      <td>33.334735</td>\n",
       "      <td>0.033335</td>\n",
       "    </tr>\n",
       "  </tbody>\n",
       "</table>\n",
       "</div>"
      ],
      "text/plain": [
       "       category     tconst       primary_name characters      primary_title  \\\n",
       "5130   composer  tt1216475  Michael Giacchino        NaN             Cars 2   \n",
       "9571   composer  tt2380307  Michael Giacchino        NaN               Coco   \n",
       "10705  composer  tt3606756  Michael Giacchino        NaN      Incredibles 2   \n",
       "2985   composer  tt1617661  Michael Giacchino        NaN  Jupiter Ascending   \n",
       "3136   composer  tt1964418  Michael Giacchino        NaN       Tomorrowland   \n",
       "7143   composer  tt1306980  Michael Giacchino        NaN              50/50   \n",
       "\n",
       "                           genres  release_date  Budget (MM)   Gross (MM)  \\\n",
       "5130   Adventure,Animation,Comedy  Jun 24, 2011        200.0   560.155383   \n",
       "9571   Adventure,Animation,Comedy  Nov 22, 2017        175.0   798.008101   \n",
       "10705  Action,Adventure,Animation  Jun 15, 2018        200.0  1242.520711   \n",
       "2985      Action,Adventure,Sci-Fi   Feb 6, 2015        179.0   181.982519   \n",
       "3136      Action,Adventure,Family  May 22, 2015        170.0   206.627518   \n",
       "7143         Comedy,Drama,Romance  Sep 30, 2011          8.0    41.334735   \n",
       "\n",
       "       Profit (MM)  Profit (B)  \n",
       "5130    360.155383    0.360155  \n",
       "9571    623.008101    0.623008  \n",
       "10705  1042.520711    1.042521  \n",
       "2985      2.982519    0.002983  \n",
       "3136     36.627518    0.036628  \n",
       "7143     33.334735    0.033335  "
      ]
     },
     "execution_count": 35,
     "metadata": {},
     "output_type": "execute_result"
    }
   ],
   "source": [
    "fcrew.loc[fcrew['primary_name']=='Michael Giacchino'].drop_duplicates()"
   ]
  },
  {
   "cell_type": "markdown",
   "metadata": {},
   "source": [
    "- Janet Healy is the most profitable producer with 7 works in the Animation Genre. \n",
    "- Pierre Coffin is the most successful Director in the Adventure, Animation, and Comedy Genres.\n",
    "- Michael Giacchino tops the list of most successful composers, with experience composing 6 works that vary in Genre\n",
    "- Cinco Paul and Ken Daurio write the most successful Animation,  Adventure, and Comedy films"
   ]
  },
  {
   "cell_type": "markdown",
   "metadata": {},
   "source": [
    "# Analysis 3 -\n",
    "Monthly trends"
   ]
  },
  {
   "cell_type": "code",
   "execution_count": 36,
   "metadata": {},
   "outputs": [],
   "source": [
    "#creating month column to look at monthly trends\n",
    "f['release_month'] = f['release_date'].map(lambda x : x[:4])"
   ]
  },
  {
   "cell_type": "code",
   "execution_count": 37,
   "metadata": {},
   "outputs": [],
   "source": [
    "# grouping mean profit by month\n",
    "month= f.groupby(by='release_month').mean().reset_index()\n",
    "month['release_month'] = month['release_month'].str.strip()"
   ]
  },
  {
   "cell_type": "code",
   "execution_count": 38,
   "metadata": {},
   "outputs": [],
   "source": [
    "# creating list to specify order for line chart\n",
    "month_list=['Jan','Feb','Mar','Apr','May','Jun','Jul','Aug','Sep','Oct','Nov','Dec']"
   ]
  },
  {
   "cell_type": "code",
   "execution_count": 39,
   "metadata": {},
   "outputs": [],
   "source": [
    "# setting index as months\n",
    "month = month.set_index('release_month')\n",
    "# using .loc to make correct order\n",
    "month = month.loc[month_list]"
   ]
  },
  {
   "cell_type": "code",
   "execution_count": 42,
   "metadata": {},
   "outputs": [
    {
     "data": {
      "text/html": [
       "<div>\n",
       "<style scoped>\n",
       "    .dataframe tbody tr th:only-of-type {\n",
       "        vertical-align: middle;\n",
       "    }\n",
       "\n",
       "    .dataframe tbody tr th {\n",
       "        vertical-align: top;\n",
       "    }\n",
       "\n",
       "    .dataframe thead th {\n",
       "        text-align: right;\n",
       "    }\n",
       "</style>\n",
       "<table border=\"1\" class=\"dataframe\">\n",
       "  <thead>\n",
       "    <tr style=\"text-align: right;\">\n",
       "      <th></th>\n",
       "      <th>Gross (MM)</th>\n",
       "    </tr>\n",
       "    <tr>\n",
       "      <th>release_month</th>\n",
       "      <th></th>\n",
       "    </tr>\n",
       "  </thead>\n",
       "  <tbody>\n",
       "    <tr>\n",
       "      <th>Jan</th>\n",
       "      <td>81.023487</td>\n",
       "    </tr>\n",
       "    <tr>\n",
       "      <th>Feb</th>\n",
       "      <td>140.047786</td>\n",
       "    </tr>\n",
       "    <tr>\n",
       "      <th>Mar</th>\n",
       "      <td>172.972159</td>\n",
       "    </tr>\n",
       "    <tr>\n",
       "      <th>Apr</th>\n",
       "      <td>152.087745</td>\n",
       "    </tr>\n",
       "    <tr>\n",
       "      <th>May</th>\n",
       "      <td>239.985471</td>\n",
       "    </tr>\n",
       "    <tr>\n",
       "      <th>Jun</th>\n",
       "      <td>227.132364</td>\n",
       "    </tr>\n",
       "    <tr>\n",
       "      <th>Jul</th>\n",
       "      <td>189.306239</td>\n",
       "    </tr>\n",
       "    <tr>\n",
       "      <th>Aug</th>\n",
       "      <td>91.028669</td>\n",
       "    </tr>\n",
       "    <tr>\n",
       "      <th>Sep</th>\n",
       "      <td>66.256913</td>\n",
       "    </tr>\n",
       "    <tr>\n",
       "      <th>Oct</th>\n",
       "      <td>72.962557</td>\n",
       "    </tr>\n",
       "    <tr>\n",
       "      <th>Nov</th>\n",
       "      <td>179.435527</td>\n",
       "    </tr>\n",
       "    <tr>\n",
       "      <th>Dec</th>\n",
       "      <td>117.058887</td>\n",
       "    </tr>\n",
       "  </tbody>\n",
       "</table>\n",
       "</div>"
      ],
      "text/plain": [
       "               Gross (MM)\n",
       "release_month            \n",
       "Jan             81.023487\n",
       "Feb            140.047786\n",
       "Mar            172.972159\n",
       "Apr            152.087745\n",
       "May            239.985471\n",
       "Jun            227.132364\n",
       "Jul            189.306239\n",
       "Aug             91.028669\n",
       "Sep             66.256913\n",
       "Oct             72.962557\n",
       "Nov            179.435527\n",
       "Dec            117.058887"
      ]
     },
     "execution_count": 42,
     "metadata": {},
     "output_type": "execute_result"
    }
   ],
   "source": [
    "month[['Gross (MM)']]"
   ]
  },
  {
   "cell_type": "code",
   "execution_count": 40,
   "metadata": {},
   "outputs": [
    {
     "data": {
      "image/png": "[encoded data removed]",
      "text/plain": [
       "<Figure size 1080x720 with 1 Axes>"
      ]
     },
     "metadata": {},
     "output_type": "display_data"
    }
   ],
   "source": [
    "# Bar Plot of Ratings by Genre\n",
    "fig, ax = plt.subplots(figsize=(15,10))\n",
    "lplot = sns.lineplot(x = 'release_month',\n",
    "            y = 'Gross (MM)',\n",
    "            data = month,\n",
    "            ax = ax,\n",
    "            color = 'purple')\n",
    "fig.tight_layout()\n",
    "\n",
    "# set labels\n",
    "plt.xlabel(\"Month of Release\", size=18)\n",
    "plt.ylabel(\"Average Worldwide Gross in Millions\", size=18)\n",
    "plt.title(\"Average Worldwide Gross by Month of Movie Release\", size=22)\n",
    "\n",
    "plt.tight_layout()"
   ]
  },
  {
   "cell_type": "markdown",
   "metadata": {},
   "source": [
    "Movies released in late spring to early summer generate substantial worldwide gross, with May generating 195MM on average.\n",
    "Late summer and early fall movie releases yield the lowest worldwide gross on average"
   ]
  },
  {
   "cell_type": "markdown",
   "metadata": {},
   "source": [
    "## Conclusion\n",
    "\n",
    "- Microsoft should create Animated, Adventure, or Action movies, as these genre's have the highest median profit\n",
    "- \n",
    "- Microsoft should aim to release movies in early summer, as May, June, and July have the highest average movie gross. "
   ]
  },
  {
   "cell_type": "markdown",
   "metadata": {},
   "source": [
    "## Next Steps"
   ]
  },
  {
   "cell_type": "markdown",
   "metadata": {},
   "source": [
    "- Kick off Microsoft’s movie studio by creating an animation film, as these tend to generate the highest profits with minimal risk of costing more than its gross earnings. Adventure and Family films also have \n",
    "- Utilizing experienced crew members in the Animation genre such as Pierre Coffin as Director, Janey Healy as Producer, and Michael Giacchino as composer will yield successful films.\n",
    "- Microsoft should avoid delaying movie releases to late summer and fall seasons and should prioritize releasing films in May, June, or July, as viewers are more likely to hit the movie theatre then."
   ]
  }
 ],
 "metadata": {
  "kernelspec": {
   "display_name": "Python 3",
   "language": "python",
   "name": "python3"
  },
  "language_info": {
   "codemirror_mode": {
    "name": "ipython",
    "version": 3
   },
   "file_extension": ".py",
   "mimetype": "text/x-python",
   "name": "python",
   "nbconvert_exporter": "python",
   "pygments_lexer": "ipython3",
   "version": "3.8.5"
  }
 },
 "nbformat": 4,
 "nbformat_minor": 2
}
